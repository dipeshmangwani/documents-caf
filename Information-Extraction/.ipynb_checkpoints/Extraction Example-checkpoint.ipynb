{
 "cells": [
  {
   "cell_type": "code",
   "execution_count": 1,
   "metadata": {},
   "outputs": [],
   "source": [
    "import re\n",
    "import pickle\n",
    "import os\n",
    "from IPython.display import display, HTML"
   ]
  },
  {
   "cell_type": "code",
   "execution_count": 2,
   "metadata": {},
   "outputs": [
    {
     "name": "stdout",
     "output_type": "stream",
     "text": [
      "Number of Pages:  2\n"
     ]
    }
   ],
   "source": [
    "from reader import Reader\n",
    "src_file = \"../../processed_pdfs/sample1/sample1.xml\"\n",
    "r = Reader({\"src\": src_file})\n",
    "blocks, kv, text = r.get_content()\n",
    "content = {\"text\": text, \"blocks\": blocks, \"kv\": kv}\n",
    "with open(\"tmp.pkl\", \"wb\") as fi:\n",
    "    pickle.dump(content, fi)"
   ]
  },
  {
   "cell_type": "code",
   "execution_count": 3,
   "metadata": {},
   "outputs": [
    {
     "name": "stderr",
     "output_type": "stream",
     "text": [
      "/usr/local/lib/python3.6/site-packages/h5py/__init__.py:36: FutureWarning: Conversion of the second argument of issubdtype from `float` to `np.floating` is deprecated. In future, it will be treated as `np.float64 == np.dtype(float).type`.\n",
      "  from ._conv import register_converters as _register_converters\n"
     ]
    }
   ],
   "source": [
    "from extractor import Extractor\n",
    "M = Extractor(\"./definitions\")"
   ]
  },
  {
   "cell_type": "code",
   "execution_count": 4,
   "metadata": {},
   "outputs": [
    {
     "data": {
      "text/html": [
       "<div>\n",
       "<style scoped>\n",
       "    .dataframe tbody tr th:only-of-type {\n",
       "        vertical-align: middle;\n",
       "    }\n",
       "\n",
       "    .dataframe tbody tr th {\n",
       "        vertical-align: top;\n",
       "    }\n",
       "\n",
       "    .dataframe thead th {\n",
       "        text-align: right;\n",
       "    }\n",
       "</style>\n",
       "<table border=\"1\" class=\"dataframe\">\n",
       "  <thead>\n",
       "    <tr style=\"text-align: right;\">\n",
       "      <th></th>\n",
       "      <th>Name</th>\n",
       "      <th>Value</th>\n",
       "      <th>Page</th>\n",
       "      <th>Method</th>\n",
       "    </tr>\n",
       "  </thead>\n",
       "  <tbody>\n",
       "    <tr>\n",
       "      <th>0</th>\n",
       "      <td>Inspection Date</td>\n",
       "      <td>2018</td>\n",
       "      <td>0</td>\n",
       "      <td>entity</td>\n",
       "    </tr>\n",
       "    <tr>\n",
       "      <th>1</th>\n",
       "      <td>Report Date</td>\n",
       "      <td>11th January, 2018</td>\n",
       "      <td>0</td>\n",
       "      <td>entity</td>\n",
       "    </tr>\n",
       "    <tr>\n",
       "      <th>2</th>\n",
       "      <td>Report Type</td>\n",
       "      <td>Restricted Appraisal Report</td>\n",
       "      <td>0</td>\n",
       "      <td>lookup</td>\n",
       "    </tr>\n",
       "    <tr>\n",
       "      <th>3</th>\n",
       "      <td>Topography</td>\n",
       "      <td>Mostly level</td>\n",
       "      <td>1</td>\n",
       "      <td>text</td>\n",
       "    </tr>\n",
       "  </tbody>\n",
       "</table>\n",
       "</div>"
      ],
      "text/plain": [
       "              Name                        Value Page  Method\n",
       "0  Inspection Date                         2018    0  entity\n",
       "1      Report Date           11th January, 2018    0  entity\n",
       "2      Report Type  Restricted Appraisal Report    0  lookup\n",
       "3       Topography                 Mostly level    1    text"
      ]
     },
     "metadata": {},
     "output_type": "display_data"
    }
   ],
   "source": [
    "file_name = \"tmp.pkl\"\n",
    "with open(file_name, \"rb\") as fi:\n",
    "    content = pickle.load(fi)\n",
    "M.set_content(content)\n",
    "df = M.extract()\n",
    "display(df)"
   ]
  },
  {
   "cell_type": "code",
   "execution_count": 18,
   "metadata": {},
   "outputs": [
    {
     "name": "stdout",
     "output_type": "stream",
     "text": [
      "Inspection Date 20th January, 2018\n",
      "Report Date December, 2017\n",
      "Topography Level\n"
     ]
    }
   ],
   "source": [
    "for filename in files:\n",
    "    file_path = os.path.join(tmp_dir, filename)\n",
    "    if os.path.exists(file_path):\n",
    "        with open(file_path, \"rb\") as fi:\n",
    "            d = pickle.load(fi)\n",
    "            texts = d[\"texts\"]\n",
    "            blocks = d[\"blocks\"]\n",
    "            kv = d[\"kv\"]\n",
    "            parser = Reader(params={\"src\": file_path})\n",
    "            for item in defs:\n",
    "                method = item[\"method\"]\n",
    "                name = item[\"name\"]\n",
    "                if method == \"extract\":\n",
    "                    terms = item[\"search\"][\"terms\"]\n",
    "                    include = item[\"search\"][\"include\"]\n",
    "                    exclude = item[\"search\"][\"exclude\"]\n",
    "                    question = item[\"search\"][\"question\"]\n",
    "                    entities = item[\"types\"][\"entities\"]\n",
    "                    patterns = item[\"types\"][\"patterns\"]        \n",
    "                    c_patterns = [re.compile(p) for p in patterns]\n",
    "                    pages_list = []\n",
    "                    if \"pages\" in item[\"pages\"] and item[\"pages\"] is not None:\n",
    "                        tmp = item[\"pages\"].split(\"-\")\n",
    "                        if len(tmp) == 1:\n",
    "                            pages_list = [int(tmp[0])]\n",
    "                        elif len(tmp) == 2:\n",
    "                            pages_list = range(int(tmp[0]), int(tmp[1]))\n",
    "                    match_found = False\n",
    "                    answer = None\n",
    "                    for term in terms:\n",
    "                        pages, kv_matches, block_matches = parser.search(term, blocks, kv, texts, include=include, exclude=exclude, pages_list=pages_list)\n",
    "                        for p in pages:\n",
    "                            page_kv = [tmp for tmp in kv_matches if tmp[0] == p]\n",
    "                            page_block = [tmp for tmp in block_matches if tmp[0] == p]\n",
    "                            for kv_item in page_kv:\n",
    "                                pidx, bidx, data = kv_item\n",
    "                                for d in data:\n",
    "                                    key, value = d\n",
    "                                    for pat in c_patterns:\n",
    "                                        res = re.search(pat, value)\n",
    "                                        if res is not None:\n",
    "                                            match_found = True\n",
    "                                            answer = value\n",
    "                                            break\n",
    "                                    if match_found:\n",
    "                                        break\n",
    "                                    if len(entities) == 0:\n",
    "                                        match_found = True\n",
    "                                        answer = value\n",
    "                                        break\n",
    "                                    doc = nlp(value)\n",
    "                                    for ent in doc.ents:\n",
    "                                        if ent.label_ in entities:\n",
    "                                            answer = ent.text\n",
    "                                            match_found = True\n",
    "                                            break                            \n",
    "                                    if match_found:\n",
    "                                        break\n",
    "                                if match_found:\n",
    "                                    break\n",
    "                            if match_found:\n",
    "                                break\n",
    "                            for block_item in page_block:\n",
    "                                pidx, bidx, data = block_item\n",
    "                                for d in data:\n",
    "                                    value = qa_extractor.extract(question, d)\n",
    "                                    for pat in c_patterns:\n",
    "                                        res = re.search(pat, value)\n",
    "                                        if res is not None:\n",
    "                                            match_found = True\n",
    "                                            answer = value\n",
    "                                            break\n",
    "                                    if match_found:\n",
    "                                        break\n",
    "                                    if len(entities) == 0:\n",
    "                                        match_found = True\n",
    "                                        answer = value\n",
    "                                        break\n",
    "                                    doc = nlp(value)\n",
    "                                    for ent in doc.ents:\n",
    "                                        if ent.label_ in entities:\n",
    "                                            answer = ent.text\n",
    "                                            match_found = True\n",
    "                                            break                            \n",
    "                                    if match_found:\n",
    "                                        break                        \n",
    "                            if match_found:\n",
    "                                break\n",
    "                        if match_found:\n",
    "                            break\n",
    "                    print (name, answer)\n",
    "                elif method == \"lookup\":\n",
    "                    pass"
   ]
  }
 ],
 "metadata": {
  "kernelspec": {
   "display_name": "Python 3",
   "language": "python",
   "name": "python3"
  },
  "language_info": {
   "codemirror_mode": {
    "name": "ipython",
    "version": 3
   },
   "file_extension": ".py",
   "mimetype": "text/x-python",
   "name": "python",
   "nbconvert_exporter": "python",
   "pygments_lexer": "ipython3",
   "version": "3.6.4"
  }
 },
 "nbformat": 4,
 "nbformat_minor": 1
}
