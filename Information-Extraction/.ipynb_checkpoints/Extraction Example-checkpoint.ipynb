{
 "cells": [
  {
   "cell_type": "code",
   "execution_count": 1,
   "metadata": {},
   "outputs": [],
   "source": [
    "import re\n",
    "import pickle\n",
    "import os\n",
    "from IPython.display import display, HTML"
   ]
  },
  {
   "cell_type": "code",
   "execution_count": 2,
   "metadata": {},
   "outputs": [
    {
     "name": "stdout",
     "output_type": "stream",
     "text": [
      "Number of Pages:  2\n"
     ]
    }
   ],
   "source": [
    "from reader import Reader\n",
    "src_file = \"../../processed_pdfs/sample1/sample1.xml\"\n",
    "r = Reader({\"src\": src_file})\n",
    "blocks, kv, text = r.get_content()\n",
    "content = {\"texts\": text, \"blocks\": blocks, \"kv\": kv}\n",
    "with open(\"tmp.pkl\", \"wb\") as fi:\n",
    "    pickle.dump(content, fi)"
   ]
  },
  {
   "cell_type": "code",
   "execution_count": null,
   "metadata": {},
   "outputs": [
    {
     "name": "stderr",
     "output_type": "stream",
     "text": [
      "/usr/local/lib/python3.6/site-packages/h5py/__init__.py:36: FutureWarning: Conversion of the second argument of issubdtype from `float` to `np.floating` is deprecated. In future, it will be treated as `np.float64 == np.dtype(float).type`.\n",
      "  from ._conv import register_converters as _register_converters\n"
     ]
    },
    {
     "name": "stdout",
     "output_type": "stream",
     "text": [
      "WARNING:tensorflow:From /Users/mohit/work/documents-citi/Information-Extraction/QANet/layers.py:52: calling reduce_mean (from tensorflow.python.ops.math_ops) with keep_dims is deprecated and will be removed in a future version.\n",
      "Instructions for updating:\n",
      "keep_dims is deprecated, use keepdims instead\n",
      "WARNING:tensorflow:From /Users/mohit/work/documents-citi/Information-Extraction/QANet/model.py:135: calling softmax (from tensorflow.python.ops.nn_ops) with dim is deprecated and will be removed in a future version.\n",
      "Instructions for updating:\n",
      "dim is deprecated, use axis instead\n",
      "WARNING:tensorflow:From /Users/mohit/work/documents-citi/Information-Extraction/QANet/model.py:181: softmax_cross_entropy_with_logits (from tensorflow.python.ops.nn_ops) is deprecated and will be removed in a future version.\n",
      "Instructions for updating:\n",
      "\n",
      "Future major versions of TensorFlow will allow gradients to flow\n",
      "into the labels input on backprop by default.\n",
      "\n",
      "See tf.nn.softmax_cross_entropy_with_logits_v2.\n",
      "\n"
     ]
    }
   ],
   "source": [
    "from extractor import Extractor\n",
    "M = Extractor()"
   ]
  },
  {
   "cell_type": "code",
   "execution_count": 5,
   "metadata": {},
   "outputs": [
    {
     "data": {
      "text/html": [
       "<div>\n",
       "<style scoped>\n",
       "    .dataframe tbody tr th:only-of-type {\n",
       "        vertical-align: middle;\n",
       "    }\n",
       "\n",
       "    .dataframe tbody tr th {\n",
       "        vertical-align: top;\n",
       "    }\n",
       "\n",
       "    .dataframe thead th {\n",
       "        text-align: right;\n",
       "    }\n",
       "</style>\n",
       "<table border=\"1\" class=\"dataframe\">\n",
       "  <thead>\n",
       "    <tr style=\"text-align: right;\">\n",
       "      <th></th>\n",
       "      <th>Name</th>\n",
       "      <th>Value</th>\n",
       "      <th>Type</th>\n",
       "      <th>Method</th>\n",
       "      <th>Region</th>\n",
       "      <th>Source</th>\n",
       "      <th>Page</th>\n",
       "    </tr>\n",
       "  </thead>\n",
       "  <tbody>\n",
       "    <tr>\n",
       "      <th>0</th>\n",
       "      <td>Inspection Date</td>\n",
       "      <td>10th January, 2018</td>\n",
       "      <td>entity</td>\n",
       "      <td>search</td>\n",
       "      <td>key</td>\n",
       "      <td>Date of Inspection: 10th January, 2018</td>\n",
       "      <td>0</td>\n",
       "    </tr>\n",
       "    <tr>\n",
       "      <th>1</th>\n",
       "      <td>Intended Use</td>\n",
       "      <td>financial assessment</td>\n",
       "      <td>text</td>\n",
       "      <td>search</td>\n",
       "      <td>key</td>\n",
       "      <td>Intended Use This report is prepared for the p...</td>\n",
       "      <td>1</td>\n",
       "    </tr>\n",
       "    <tr>\n",
       "      <th>2</th>\n",
       "      <td>Report Date</td>\n",
       "      <td>11th January, 2018</td>\n",
       "      <td>entity</td>\n",
       "      <td>search</td>\n",
       "      <td>key</td>\n",
       "      <td>Date of Report: 11th January, 2018</td>\n",
       "      <td>0</td>\n",
       "    </tr>\n",
       "    <tr>\n",
       "      <th>3</th>\n",
       "      <td>Report Type</td>\n",
       "      <td>Restricted Appraisal Report</td>\n",
       "      <td>None</td>\n",
       "      <td>lookup</td>\n",
       "      <td>None</td>\n",
       "      <td>None</td>\n",
       "      <td>0</td>\n",
       "    </tr>\n",
       "    <tr>\n",
       "      <th>4</th>\n",
       "      <td>Topography</td>\n",
       "      <td>Mostly level</td>\n",
       "      <td>text</td>\n",
       "      <td>search</td>\n",
       "      <td>key</td>\n",
       "      <td>Topography Mostly level</td>\n",
       "      <td>1</td>\n",
       "    </tr>\n",
       "    <tr>\n",
       "      <th>5</th>\n",
       "      <td>Valuation Date</td>\n",
       "      <td>12th January, 2018</td>\n",
       "      <td>entity</td>\n",
       "      <td>search</td>\n",
       "      <td>key</td>\n",
       "      <td>Valuation Date: 12th January, 2018</td>\n",
       "      <td>0</td>\n",
       "    </tr>\n",
       "  </tbody>\n",
       "</table>\n",
       "</div>"
      ],
      "text/plain": [
       "              Name                        Value    Type  Method Region  \\\n",
       "0  Inspection Date           10th January, 2018  entity  search    key   \n",
       "1     Intended Use         financial assessment    text  search    key   \n",
       "2      Report Date           11th January, 2018  entity  search    key   \n",
       "3      Report Type  Restricted Appraisal Report    None  lookup   None   \n",
       "4       Topography                 Mostly level    text  search    key   \n",
       "5   Valuation Date           12th January, 2018  entity  search    key   \n",
       "\n",
       "                                              Source Page  \n",
       "0             Date of Inspection: 10th January, 2018    0  \n",
       "1  Intended Use This report is prepared for the p...    1  \n",
       "2                 Date of Report: 11th January, 2018    0  \n",
       "3                                               None    0  \n",
       "4                            Topography Mostly level    1  \n",
       "5                 Valuation Date: 12th January, 2018    0  "
      ]
     },
     "metadata": {},
     "output_type": "display_data"
    }
   ],
   "source": [
    "file_name = \"tmp.pkl\"\n",
    "with open(file_name, \"rb\") as fi:\n",
    "    content = pickle.load(fi)\n",
    "M.set_defs(\"./defs.json\")    \n",
    "M.set_content(content)\n",
    "df = M.extract()\n",
    "display(df)"
   ]
  },
  {
   "cell_type": "code",
   "execution_count": null,
   "metadata": {},
   "outputs": [],
   "source": []
  }
 ],
 "metadata": {
  "kernelspec": {
   "display_name": "Python 3",
   "language": "python",
   "name": "python3"
  },
  "language_info": {
   "codemirror_mode": {
    "name": "ipython",
    "version": 3
   },
   "file_extension": ".py",
   "mimetype": "text/x-python",
   "name": "python",
   "nbconvert_exporter": "python",
   "pygments_lexer": "ipython3",
   "version": "3.6.4"
  }
 },
 "nbformat": 4,
 "nbformat_minor": 1
}
