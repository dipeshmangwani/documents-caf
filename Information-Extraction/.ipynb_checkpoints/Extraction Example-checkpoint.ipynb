{
 "cells": [
  {
   "cell_type": "code",
   "execution_count": 19,
   "metadata": {},
   "outputs": [],
   "source": [
    "from arrange_blocks import Reader\n",
    "import compile_defs\n",
    "import re\n",
    "import spacy\n",
    "from QANet import eval\n",
    "nlp = spacy.load(\"en_core_web_sm\")"
   ]
  },
  {
   "cell_type": "code",
   "execution_count": 12,
   "metadata": {},
   "outputs": [],
   "source": [
    "defs = compile_defs.run(\"./definitions\")\n",
    "qa_config_path = \"config.json\"\n",
    "qa_extractor = eval.Eval(qa_config_path)"
   ]
  },
  {
   "cell_type": "code",
   "execution_count": 13,
   "metadata": {},
   "outputs": [
    {
     "name": "stdout",
     "output_type": "stream",
     "text": [
      "Number of Pages:  1\n",
      "['Page Header\\nRandom Text Here\\n123, Abc St, Place,\\nState, Country\\n85281\\nPREPARED FOR\\nGenesis AI Pvt. Ltd.\\nAhmedabad, India, 380051\\nSection 1 Random paragraph of text goes here. Trying to mimic a collateral document and its spatial and paragraph structure. Just adding one more line to make this a 3-line paragraph and then look at\\nthe structure we get.\\nSite Improvements\\nPrepared By Mohit Shah Ahmedabad,\\nAuthorized Person Virat Kohli Delhi, India,\\nIndia, 380051\\n90123\\n15\\nInspection Date: 20th January, 2018\\nDate of Report: 10th December, 2017\\nProperty Name: ABC Elements\\nAddress 123 E Random Rd Tempe, Arizona, USA, 85287\\n● Size 2500 SF\\n● Topography Level\\n● Flood Map X500\\nIntended User The intended user of this agreement is Mohit Shah. It is to be used to appraising property rights of the client.']\n"
     ]
    }
   ],
   "source": [
    "tmp_dir = \"tmp\"\n",
    "files = os.listdir(tmp_dir)"
   ]
  },
  {
   "cell_type": "code",
   "execution_count": 18,
   "metadata": {},
   "outputs": [
    {
     "name": "stdout",
     "output_type": "stream",
     "text": [
      "Inspection Date 20th January, 2018\n",
      "Report Date December, 2017\n",
      "Topography Level\n"
     ]
    }
   ],
   "source": [
    "for filename in files:\n",
    "    file_path = os.path.join(tmp_dir, filename)\n",
    "    if os.path.exists(file_path):\n",
    "        with open(file_path, \"rb\") as fi:\n",
    "            d = pickle.load(fi)\n",
    "            texts = d[\"texts\"]\n",
    "            blocks = d[\"blocks\"]\n",
    "            kv = d[\"kv\"]\n",
    "            parser = Reader(params={\"src\": file_path})\n",
    "            for item in defs:\n",
    "                method = item[\"method\"]\n",
    "                name = item[\"name\"]\n",
    "                if method == \"extract\":\n",
    "                    terms = item[\"search\"][\"terms\"]\n",
    "                    include = item[\"search\"][\"include\"]\n",
    "                    exclude = item[\"search\"][\"exclude\"]\n",
    "                    question = item[\"search\"][\"question\"]\n",
    "                    entities = item[\"types\"][\"entities\"]\n",
    "                    patterns = item[\"types\"][\"patterns\"]        \n",
    "                    c_patterns = [re.compile(p) for p in patterns]\n",
    "                    pages_list = []\n",
    "                    if \"pages\" in item[\"pages\"] and item[\"pages\"] is not None:\n",
    "                        tmp = item[\"pages\"].split(\"-\")\n",
    "                        if len(tmp) == 1:\n",
    "                            pages_list = [int(tmp[0])]\n",
    "                        elif len(tmp) == 2:\n",
    "                            pages_list = range(int(tmp[0]), int(tmp[1]))\n",
    "                    match_found = False\n",
    "                    answer = None\n",
    "                    for term in terms:\n",
    "                        pages, kv_matches, block_matches = parser.search(term, blocks, kv, texts, include=include, exclude=exclude, pages_list=pages_list)\n",
    "                        for p in pages:\n",
    "                            page_kv = [tmp for tmp in kv_matches if tmp[0] == p]\n",
    "                            page_block = [tmp for tmp in block_matches if tmp[0] == p]\n",
    "                            for kv_item in page_kv:\n",
    "                                pidx, bidx, data = kv_item\n",
    "                                for d in data:\n",
    "                                    key, value = d\n",
    "                                    for pat in c_patterns:\n",
    "                                        res = re.search(pat, value)\n",
    "                                        if res is not None:\n",
    "                                            match_found = True\n",
    "                                            answer = value\n",
    "                                            break\n",
    "                                    if match_found:\n",
    "                                        break\n",
    "                                    if len(entities) == 0:\n",
    "                                        match_found = True\n",
    "                                        answer = value\n",
    "                                        break\n",
    "                                    doc = nlp(value)\n",
    "                                    for ent in doc.ents:\n",
    "                                        if ent.label_ in entities:\n",
    "                                            answer = ent.text\n",
    "                                            match_found = True\n",
    "                                            break                            \n",
    "                                    if match_found:\n",
    "                                        break\n",
    "                                if match_found:\n",
    "                                    break\n",
    "                            if match_found:\n",
    "                                break\n",
    "                            for block_item in page_block:\n",
    "                                pidx, bidx, data = block_item\n",
    "                                for d in data:\n",
    "                                    value = qa_extractor.extract(question, d)\n",
    "                                    for pat in c_patterns:\n",
    "                                        res = re.search(pat, value)\n",
    "                                        if res is not None:\n",
    "                                            match_found = True\n",
    "                                            answer = value\n",
    "                                            break\n",
    "                                    if match_found:\n",
    "                                        break\n",
    "                                    if len(entities) == 0:\n",
    "                                        match_found = True\n",
    "                                        answer = value\n",
    "                                        break\n",
    "                                    doc = nlp(value)\n",
    "                                    for ent in doc.ents:\n",
    "                                        if ent.label_ in entities:\n",
    "                                            answer = ent.text\n",
    "                                            match_found = True\n",
    "                                            break                            \n",
    "                                    if match_found:\n",
    "                                        break                        \n",
    "                            if match_found:\n",
    "                                break\n",
    "                        if match_found:\n",
    "                            break\n",
    "                    print (name, answer)\n",
    "                elif method == \"lookup\":\n",
    "                    pass\n"
   ]
  }
 ],
 "metadata": {
  "kernelspec": {
   "display_name": "Python 3",
   "language": "python",
   "name": "python3"
  },
  "language_info": {
   "codemirror_mode": {
    "name": "ipython",
    "version": 3
   },
   "file_extension": ".py",
   "mimetype": "text/x-python",
   "name": "python",
   "nbconvert_exporter": "python",
   "pygments_lexer": "ipython3",
   "version": "3.6.4"
  }
 },
 "nbformat": 4,
 "nbformat_minor": 2
}
