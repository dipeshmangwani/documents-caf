{
 "cells": [
  {
   "cell_type": "markdown",
   "metadata": {},
   "source": [
    "# Texter with vanilla cnn"
   ]
  },
  {
   "cell_type": "code",
   "execution_count": 1,
   "metadata": {},
   "outputs": [
    {
     "name": "stdout",
     "output_type": "stream",
     "text": [
      "Exception reporting mode: Plain\n"
     ]
    },
    {
     "name": "stderr",
     "output_type": "stream",
     "text": [
      "/home/xenomorph/applications/anaconda3/lib/python3.6/site-packages/h5py/__init__.py:36: FutureWarning: Conversion of the second argument of issubdtype from `float` to `np.floating` is deprecated. In future, it will be treated as `np.float64 == np.dtype(float).type`.\n",
      "  from ._conv import register_converters as _register_converters\n",
      "Using TensorFlow backend.\n",
      "/home/xenomorph/applications/anaconda3/lib/python3.6/importlib/_bootstrap.py:219: RuntimeWarning: compiletime version 3.5 of module 'tensorflow.python.framework.fast_tensor_util' does not match runtime version 3.6\n",
      "  return f(*args, **kwds)\n"
     ]
    }
   ],
   "source": [
    "%matplotlib inline\n",
    "%xmode plain\n",
    "\n",
    "import os\n",
    "import numpy as np\n",
    "\n",
    "from texter.utils import eval_utils as evu\n",
    "from texter.utils import config_utils as cu\n",
    "from texter.utils import text_utils as tu\n",
    "\n",
    "np.random.seed(15101993)"
   ]
  },
  {
   "cell_type": "code",
   "execution_count": 2,
   "metadata": {},
   "outputs": [
    {
     "name": "stdout",
     "output_type": "stream",
     "text": [
      "Found 57 unique tokens.\n",
      "Shape of X train and X validation tensor: (8, 2000) (3, 2000)\n",
      "Shape of label train and validation tensor: (8, 3) (3, 3)\n"
     ]
    }
   ],
   "source": [
    "text_path = \"../../../citi/citi_rest/data/raw_data/\"\n",
    "text_labels = os.listdir(text_path)\n",
    "pretrained_embeddings_path = \"../../data/others/glove.6B.50d.txt\"\n",
    "pre_path = \"../../data/others/GoogleNews-vectors-negative300-SLIM.bin\"\n",
    "\n",
    "X_train, X_val, Y_train, Y_val, tokenizer, word_index = cu.keras_data_config(text_path, text_labels, \n",
    "                                                                    3, NUM_WORDS=1000)"
   ]
  },
  {
   "cell_type": "code",
   "execution_count": 3,
   "metadata": {},
   "outputs": [
    {
     "name": "stdout",
     "output_type": "stream",
     "text": [
      "Found 400000 word embeddings\n"
     ]
    }
   ],
   "source": [
    "model = cu.keras_model_config(pretrained_embeddings_path=pretrained_embeddings_path, \n",
    "                        word_index=word_index, \n",
    "                        num_class=3,\n",
    "                        MAX_SEQUENCE_LENGTH=2000,\n",
    "                        EMBEDDING_DIM=50, \n",
    "                        embedding_type=\"glove\", \n",
    "                        model_type=\"vanilla\")"
   ]
  },
  {
   "cell_type": "code",
   "execution_count": 4,
   "metadata": {},
   "outputs": [
    {
     "name": "stdout",
     "output_type": "stream",
     "text": [
      "_________________________________________________________________\n",
      "Layer (type)                 Output Shape              Param #   \n",
      "=================================================================\n",
      "input_1 (InputLayer)         (None, 2000)              0         \n",
      "_________________________________________________________________\n",
      "embedding_2 (Embedding)      (None, 2000, 50)          2900      \n",
      "_________________________________________________________________\n",
      "conv1d_1 (Conv1D)            (None, 1996, 256)         64256     \n",
      "_________________________________________________________________\n",
      "max_pooling1d_1 (MaxPooling1 (None, 399, 256)          0         \n",
      "_________________________________________________________________\n",
      "conv1d_2 (Conv1D)            (None, 395, 64)           81984     \n",
      "_________________________________________________________________\n",
      "max_pooling1d_2 (MaxPooling1 (None, 79, 64)            0         \n",
      "_________________________________________________________________\n",
      "conv1d_3 (Conv1D)            (None, 75, 256)           82176     \n",
      "_________________________________________________________________\n",
      "global_max_pooling1d_1 (Glob (None, 256)               0         \n",
      "_________________________________________________________________\n",
      "dense_1 (Dense)              (None, 128)               32896     \n",
      "_________________________________________________________________\n",
      "dense_2 (Dense)              (None, 3)                 387       \n",
      "=================================================================\n",
      "Total params: 264,599\n",
      "Trainable params: 264,599\n",
      "Non-trainable params: 0\n",
      "_________________________________________________________________\n"
     ]
    }
   ],
   "source": [
    "model.summary()"
   ]
  },
  {
   "cell_type": "code",
   "execution_count": 5,
   "metadata": {},
   "outputs": [
    {
     "name": "stdout",
     "output_type": "stream",
     "text": [
      "Train on 8 samples, validate on 3 samples\n",
      "Epoch 1/5\n",
      "8/8 [==============================] - 4s 507ms/step - loss: 1.0999 - acc: 0.1250 - val_loss: 1.0989 - val_acc: 0.3333\n",
      "Epoch 2/5\n",
      "8/8 [==============================] - 0s 11ms/step - loss: 1.0960 - acc: 0.3750 - val_loss: 1.1089 - val_acc: 0.3333\n",
      "Epoch 3/5\n",
      "8/8 [==============================] - 0s 11ms/step - loss: 1.0913 - acc: 0.3750 - val_loss: 1.1220 - val_acc: 0.3333\n",
      "Epoch 4/5\n",
      "8/8 [==============================] - 0s 12ms/step - loss: 1.0854 - acc: 0.3750 - val_loss: 1.1373 - val_acc: 0.3333\n",
      "Epoch 5/5\n",
      "8/8 [==============================] - 0s 12ms/step - loss: 1.0782 - acc: 0.3750 - val_loss: 1.1570 - val_acc: 0.3333\n"
     ]
    },
    {
     "data": {
      "text/plain": [
       "<keras.callbacks.History at 0x7f935bef9908>"
      ]
     },
     "execution_count": 5,
     "metadata": {},
     "output_type": "execute_result"
    }
   ],
   "source": [
    "model.fit(X_train, Y_train, batch_size=256,\n",
    "          epochs=5, validation_data=(X_val, Y_val), callbacks=evu.add_callbacks())"
   ]
  },
  {
   "cell_type": "code",
   "execution_count": 6,
   "metadata": {},
   "outputs": [],
   "source": [
    "#sample predictions\n",
    "\n",
    "s = \"\"\"Ayahuasca emerged again in the early 1960s with the counterculture movement.\\n \n",
    "Beat writers like William Burroughs, Allen Ginsberg, and Jack Kerouac all described \\n\n",
    "their experiences with ayahuasca, most famously in Burroughs's book The Yage Letters. \"\"\""
   ]
  },
  {
   "cell_type": "code",
   "execution_count": 7,
   "metadata": {},
   "outputs": [
    {
     "data": {
      "text/plain": [
       "array([[0.3476559 , 0.28875634, 0.36358783]], dtype=float32)"
      ]
     },
     "execution_count": 7,
     "metadata": {},
     "output_type": "execute_result"
    }
   ],
   "source": [
    "model.predict(tu.keras_text_vectorizer(s, tokenizer))"
   ]
  },
  {
   "cell_type": "code",
   "execution_count": null,
   "metadata": {},
   "outputs": [],
   "source": []
  }
 ],
 "metadata": {
  "kernelspec": {
   "display_name": "Python 3",
   "language": "python",
   "name": "python3"
  },
  "language_info": {
   "codemirror_mode": {
    "name": "ipython",
    "version": 3
   },
   "file_extension": ".py",
   "mimetype": "text/x-python",
   "name": "python",
   "nbconvert_exporter": "python",
   "pygments_lexer": "ipython3",
   "version": "3.6.5"
  }
 },
 "nbformat": 4,
 "nbformat_minor": 2
}
