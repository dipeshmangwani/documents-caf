{
 "cells": [
  {
   "cell_type": "code",
   "execution_count": 4,
   "metadata": {},
   "outputs": [],
   "source": [
    "from texter.utils.config_utils import keras_data_config as kdc\n",
    "from texter.utils.config_utils import keras_model_config as kmc\n",
    "\n",
    "from texter.utils.io_utils import load_config, save_config, load_model, save_model \n",
    "from texter.utils.io_utils import save_text_model, load_text_model\n",
    "\n",
    "from texter.utils import text_utils as tu"
   ]
  },
  {
   "cell_type": "code",
   "execution_count": 6,
   "metadata": {
    "cell_style": "center"
   },
   "outputs": [],
   "source": [
    "kdc_config_params = dict(\n",
    "    mappings_path=\"legal_files.csv\", \n",
    "    column=\"Doc_Type\", \n",
    "    root=\"../texter_nb/data/legal\", \n",
    "    num_class=3, \n",
    "    MAXLEN=2000,\n",
    "    NUM_WORDS=2000)\n",
    "\n",
    "save_config(\"kdc_doc.json\", kdc_config_params)"
   ]
  },
  {
   "cell_type": "markdown",
   "metadata": {},
   "source": [
    "save the hyperparams to a json file"
   ]
  },
  {
   "cell_type": "code",
   "execution_count": null,
   "metadata": {},
   "outputs": [],
   "source": [
    "kmc_config_w2v = dict(pretrained_embeddings_path=\"../../data/others/GoogleNews-vectors-negative300-SLIM.bin\",\n",
    "                      word_index=word_index,\n",
    "                      num_class=3, \n",
    "                      model_type='kim', \n",
    "                      embedding_type='word2vec', \n",
    "                      EMBEDDING_DIM=300, \n",
    "                      activation='selu')\n",
    "\n",
    "save_config(\"kmc_w2v_doc.json\", kmc_config_w2v)"
   ]
  },
  {
   "cell_type": "markdown",
   "metadata": {},
   "source": [
    "load the  hyperparams from the json file."
   ]
  },
  {
   "cell_type": "code",
   "execution_count": 11,
   "metadata": {},
   "outputs": [],
   "source": [
    "kdc_config = load_config(\"kdc_doc.json\")\n",
    "kmc_config = load_config(\"kmc_doc.json\")\n",
    "kmc_w2v_config = load_config(\"kmc_w2v_doc.json\")"
   ]
  },
  {
   "cell_type": "markdown",
   "metadata": {},
   "source": [
    "get the model"
   ]
  },
  {
   "cell_type": "code",
   "execution_count": 18,
   "metadata": {},
   "outputs": [
    {
     "name": "stdout",
     "output_type": "stream",
     "text": [
      "Found 62 unique tokens.\n",
      "Shape of X train and X validation tensor: (8, 2000) (3, 2000)\n",
      "Shape of label train and validation tensor: (8, 3) (3, 3)\n"
     ]
    }
   ],
   "source": [
    "x_train, x_test, y_train, y_test, tokenizer, word_index = kdc(**kdc_config)\n",
    "kim_w2v = kmc(**kmc_w2v_config, MAX_SEQUENCE_LENGTH=2000)"
   ]
  },
  {
   "cell_type": "code",
   "execution_count": 21,
   "metadata": {},
   "outputs": [
    {
     "name": "stdout",
     "output_type": "stream",
     "text": [
      "Epoch 1/8\n",
      "8/8 [==============================] - 0s 32ms/step - loss: 0.6224 - acc: 1.0000\n",
      "Epoch 2/8\n",
      "8/8 [==============================] - 0s 31ms/step - loss: 0.5399 - acc: 1.0000\n",
      "Epoch 3/8\n",
      "8/8 [==============================] - 0s 30ms/step - loss: 0.5061 - acc: 1.0000\n",
      "Epoch 4/8\n",
      "8/8 [==============================] - 0s 33ms/step - loss: 0.4753 - acc: 1.0000\n",
      "Epoch 5/8\n",
      "8/8 [==============================] - 0s 31ms/step - loss: 0.4083 - acc: 1.0000\n",
      "Epoch 6/8\n",
      "8/8 [==============================] - 0s 31ms/step - loss: 0.4094 - acc: 1.0000\n",
      "Epoch 7/8\n",
      "8/8 [==============================] - 0s 31ms/step - loss: 0.3871 - acc: 1.0000\n",
      "Epoch 8/8\n",
      "8/8 [==============================] - 0s 31ms/step - loss: 0.3677 - acc: 1.0000\n"
     ]
    },
    {
     "data": {
      "text/plain": [
       "<keras.callbacks.History at 0x7ff867481898>"
      ]
     },
     "execution_count": 21,
     "metadata": {},
     "output_type": "execute_result"
    }
   ],
   "source": [
    "kim_w2v.fit(x_train, y_train, batch_size=128, epochs=8)"
   ]
  },
  {
   "cell_type": "code",
   "execution_count": 23,
   "metadata": {},
   "outputs": [],
   "source": [
    "#save model and tokenizer\n",
    "save_model(\"kim_w2v\", kim_w2v)\n",
    "save_text_model(\"kim_w2v\", tokenizer)"
   ]
  },
  {
   "cell_type": "code",
   "execution_count": 24,
   "metadata": {},
   "outputs": [
    {
     "name": "stdout",
     "output_type": "stream",
     "text": [
      "__________________________________________________________________________________________________\n",
      "Layer (type)                    Output Shape         Param #     Connected to                     \n",
      "==================================================================================================\n",
      "input_4 (InputLayer)            (None, 2000)         0                                            \n",
      "__________________________________________________________________________________________________\n",
      "embedding_8 (Embedding)         (None, 2000, 300)    17400       input_4[0][0]                    \n",
      "__________________________________________________________________________________________________\n",
      "reshape_7 (Reshape)             (None, 2000, 300, 1) 0           embedding_8[0][0]                \n",
      "__________________________________________________________________________________________________\n",
      "conv2d_10 (Conv2D)              (None, 1998, 1, 100) 90100       reshape_7[0][0]                  \n",
      "__________________________________________________________________________________________________\n",
      "conv2d_11 (Conv2D)              (None, 1997, 1, 100) 120100      reshape_7[0][0]                  \n",
      "__________________________________________________________________________________________________\n",
      "conv2d_12 (Conv2D)              (None, 1996, 1, 100) 150100      reshape_7[0][0]                  \n",
      "__________________________________________________________________________________________________\n",
      "max_pooling2d_10 (MaxPooling2D) (None, 1, 1, 100)    0           conv2d_10[0][0]                  \n",
      "__________________________________________________________________________________________________\n",
      "max_pooling2d_11 (MaxPooling2D) (None, 1, 1, 100)    0           conv2d_11[0][0]                  \n",
      "__________________________________________________________________________________________________\n",
      "max_pooling2d_12 (MaxPooling2D) (None, 1, 1, 100)    0           conv2d_12[0][0]                  \n",
      "__________________________________________________________________________________________________\n",
      "concatenate_4 (Concatenate)     (None, 3, 1, 100)    0           max_pooling2d_10[0][0]           \n",
      "                                                                 max_pooling2d_11[0][0]           \n",
      "                                                                 max_pooling2d_12[0][0]           \n",
      "__________________________________________________________________________________________________\n",
      "flatten_4 (Flatten)             (None, 300)          0           concatenate_4[0][0]              \n",
      "__________________________________________________________________________________________________\n",
      "dropout_4 (Dropout)             (None, 300)          0           flatten_4[0][0]                  \n",
      "__________________________________________________________________________________________________\n",
      "dense_4 (Dense)                 (None, 3)            903         dropout_4[0][0]                  \n",
      "==================================================================================================\n",
      "Total params: 378,603\n",
      "Trainable params: 378,603\n",
      "Non-trainable params: 0\n",
      "__________________________________________________________________________________________________\n"
     ]
    }
   ],
   "source": [
    "kim_w2v.summary()"
   ]
  },
  {
   "cell_type": "code",
   "execution_count": 25,
   "metadata": {},
   "outputs": [],
   "source": [
    "#sample predictions\n",
    "\n",
    "s = \"\"\"Ayahuasca emerged again in the early 1960s with the counterculture movement.\\n \n",
    "Beat writers like William Burroughs, Allen Ginsberg, and Jack Kerouac all described \\n\n",
    "their experiences with ayahuasca, most famously in Burroughs's book The Yage Letters. \"\"\""
   ]
  },
  {
   "cell_type": "code",
   "execution_count": 26,
   "metadata": {},
   "outputs": [
    {
     "data": {
      "text/plain": [
       "array([0.35382104, 0.3660751 , 0.28010386], dtype=float32)"
      ]
     },
     "execution_count": 26,
     "metadata": {},
     "output_type": "execute_result"
    }
   ],
   "source": [
    "kim_w2v.predict(tu.keras_text_vectorizer(s, load_text_model(\"kim_w2v\")))[0]"
   ]
  },
  {
   "cell_type": "code",
   "execution_count": null,
   "metadata": {},
   "outputs": [],
   "source": []
  }
 ],
 "metadata": {
  "kernelspec": {
   "display_name": "Python 3",
   "language": "python",
   "name": "python3"
  },
  "language_info": {
   "codemirror_mode": {
    "name": "ipython",
    "version": 3
   },
   "file_extension": ".py",
   "mimetype": "text/x-python",
   "name": "python",
   "nbconvert_exporter": "python",
   "pygments_lexer": "ipython3",
   "version": "3.6.5"
  }
 },
 "nbformat": 4,
 "nbformat_minor": 2
}
