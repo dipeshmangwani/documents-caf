{
 "cells": [
  {
   "cell_type": "code",
   "execution_count": 2,
   "metadata": {},
   "outputs": [],
   "source": [
    "from texter.utils.config_utils import sklearn_model_config as smc\n",
    "from texter.utils.config_utils import sklearn_data_config as sdc\n",
    "\n",
    "from texter.utils.io_utils import load_config, save_config, load_model, save_model \n",
    "from texter.utils.io_utils import save_text_model, load_text_model\n",
    "\n",
    "from texter.utils import text_utils as tu\n",
    "from texter.utils.eval_utils import classifier_report"
   ]
  },
  {
   "cell_type": "markdown",
   "metadata": {},
   "source": [
    "load the  hyperparams from the json file."
   ]
  },
  {
   "cell_type": "code",
   "execution_count": 3,
   "metadata": {},
   "outputs": [],
   "source": [
    "#smc_dict = dict(name=\"RF\", config=dict(n_estimators=50, random_state=123, n_jobs=-1))\n",
    "#save_config(\"smc_doc.json\", smc_dict)\n",
    "sdc_tfidf = dict(mappings_path=\"legal_files.csv\", \n",
    "                 column=\"Doc_Type\",  \n",
    "                 root=\"../texter_nb/data/legal\",\n",
    "                 processing_type='tfidf',\n",
    "                 max_features=2000,\n",
    "                 limit=20000)\n",
    "save_config(\"sdc_tfidf_doc.json\", sdc_tfidf)"
   ]
  },
  {
   "cell_type": "code",
   "execution_count": 4,
   "metadata": {},
   "outputs": [],
   "source": [
    "sdc_config = load_config(\"sdc_doc.json\")\n",
    "smc_config = load_config(\"smc_doc.json\")\n",
    "sdc_config_tfidf = load_config(\"sdc_tfidf_doc.json\")"
   ]
  },
  {
   "cell_type": "code",
   "execution_count": 5,
   "metadata": {},
   "outputs": [
    {
     "name": "stdout",
     "output_type": "stream",
     "text": [
      "classification model configured to use RandomForestClassifier algorithm.\n"
     ]
    }
   ],
   "source": [
    "x_train, x_test, y_train, y_test, fitted_text_model = sdc(**sdc_config_tfidf)\n",
    "model = smc(**smc_config)"
   ]
  },
  {
   "cell_type": "code",
   "execution_count": 23,
   "metadata": {},
   "outputs": [],
   "source": [
    "save_text_model(\"rf_v2\", fitted_text_model)"
   ]
  },
  {
   "cell_type": "code",
   "execution_count": 6,
   "metadata": {},
   "outputs": [],
   "source": [
    "#sample predictions\n",
    "\n",
    "s = \"\"\"Ayahuasca emerged again in the early 1960s with the counterculture movement.\\n \n",
    "Beat writers like William Burroughs, Allen Ginsberg, and Jack Kerouac all described \\n\n",
    "their experiences with ayahuasca, most famously in Burroughs's book The Yage Letters. \"\"\"\n",
    "\n",
    "t = \"pandas is here for the day\""
   ]
  },
  {
   "cell_type": "code",
   "execution_count": 7,
   "metadata": {},
   "outputs": [
    {
     "data": {
      "text/plain": [
       "{'bootstrap': True,\n",
       " 'class_weight': None,\n",
       " 'criterion': 'gini',\n",
       " 'max_depth': None,\n",
       " 'max_features': 'auto',\n",
       " 'max_leaf_nodes': None,\n",
       " 'min_impurity_decrease': 0.0,\n",
       " 'min_impurity_split': None,\n",
       " 'min_samples_leaf': 1,\n",
       " 'min_samples_split': 2,\n",
       " 'min_weight_fraction_leaf': 0.0,\n",
       " 'n_estimators': 50,\n",
       " 'n_jobs': -1,\n",
       " 'oob_score': False,\n",
       " 'random_state': 123,\n",
       " 'verbose': 0,\n",
       " 'warm_start': False}"
      ]
     },
     "execution_count": 7,
     "metadata": {},
     "output_type": "execute_result"
    }
   ],
   "source": [
    "model.get_params()"
   ]
  },
  {
   "cell_type": "code",
   "execution_count": 17,
   "metadata": {},
   "outputs": [
    {
     "data": {
      "text/plain": [
       "RandomForestClassifier(bootstrap=True, class_weight=None, criterion='gini',\n",
       "            max_depth=None, max_features='auto', max_leaf_nodes=None,\n",
       "            min_impurity_decrease=0.0, min_impurity_split=None,\n",
       "            min_samples_leaf=1, min_samples_split=2,\n",
       "            min_weight_fraction_leaf=0.0, n_estimators=50, n_jobs=-1,\n",
       "            oob_score=False, random_state=123, verbose=0, warm_start=False)"
      ]
     },
     "execution_count": 17,
     "metadata": {},
     "output_type": "execute_result"
    }
   ],
   "source": [
    "model.fit(x_train, y_train)"
   ]
  },
  {
   "cell_type": "code",
   "execution_count": 18,
   "metadata": {},
   "outputs": [],
   "source": [
    "save_model(\"rf_v2\", model)"
   ]
  },
  {
   "cell_type": "code",
   "execution_count": 10,
   "metadata": {},
   "outputs": [],
   "source": [
    "y_pred = model.fit(x_train, y_train).predict(x_test)"
   ]
  },
  {
   "cell_type": "code",
   "execution_count": 20,
   "metadata": {},
   "outputs": [],
   "source": [
    "#load saved model\n",
    "rf = load_model(\"rf_v2\")\n",
    "y_pred=rf.fit(x_train, y_train).predict(x_test)"
   ]
  },
  {
   "cell_type": "code",
   "execution_count": 21,
   "metadata": {},
   "outputs": [
    {
     "name": "stdout",
     "output_type": "stream",
     "text": [
      "1. score: 0.3333333333333333\n",
      "2. classification model report:\n",
      "             precision    recall  f1-score   support\n",
      "\n",
      "          0       0.00      0.00      0.00         0\n",
      "          1       0.00      0.00      0.00         2\n",
      "          2       0.50      1.00      0.67         1\n",
      "\n",
      "avg / total       0.17      0.33      0.22         3\n",
      "\n",
      "3. confusion matrix:\n",
      "[[0 0 0]\n",
      " [1 0 1]\n",
      " [0 0 1]]\n"
     ]
    }
   ],
   "source": [
    "print(classifier_report(rf, x_test, y_test, y_pred))"
   ]
  },
  {
   "cell_type": "code",
   "execution_count": 12,
   "metadata": {},
   "outputs": [
    {
     "data": {
      "text/plain": [
       "2"
      ]
     },
     "execution_count": 12,
     "metadata": {},
     "output_type": "execute_result"
    }
   ],
   "source": [
    "#vt = tu.sklearn_text_vectorizer(t, model=\"word2vec\", \n",
    "#                                w2v_path=\"../../data/others/GoogleNews-vectors-negative300-SLIM.bin\")\n",
    "\n",
    "vtt = tu.sklearn_text_vectorizer(s, model=\"tfidf\",fitted_model=fitted_text_model)\n",
    "model.predict(vtt)[0]"
   ]
  },
  {
   "cell_type": "code",
   "execution_count": 13,
   "metadata": {},
   "outputs": [
    {
     "data": {
      "text/plain": [
       "array([[0.26, 0.28, 0.46]])"
      ]
     },
     "execution_count": 13,
     "metadata": {},
     "output_type": "execute_result"
    }
   ],
   "source": [
    "model.predict_proba(vtt)"
   ]
  },
  {
   "cell_type": "code",
   "execution_count": 14,
   "metadata": {},
   "outputs": [],
   "source": [
    "#save_text_model(\"rf_v1_tfidf\", fitted_text_model)"
   ]
  },
  {
   "cell_type": "code",
   "execution_count": 24,
   "metadata": {},
   "outputs": [],
   "source": [
    "fm = tu.sklearn_text_vectorizer(t, model=\"tfidf\", fitted_model=load_text_model(\"rf_v2\"))"
   ]
  },
  {
   "cell_type": "code",
   "execution_count": 25,
   "metadata": {},
   "outputs": [
    {
     "data": {
      "text/plain": [
       "array([[0.3, 0.3, 0.4]])"
      ]
     },
     "execution_count": 25,
     "metadata": {},
     "output_type": "execute_result"
    }
   ],
   "source": [
    "model.predict_proba(fm)"
   ]
  },
  {
   "cell_type": "code",
   "execution_count": null,
   "metadata": {},
   "outputs": [],
   "source": []
  }
 ],
 "metadata": {
  "kernelspec": {
   "display_name": "Python 3",
   "language": "python",
   "name": "python3"
  },
  "language_info": {
   "codemirror_mode": {
    "name": "ipython",
    "version": 3
   },
   "file_extension": ".py",
   "mimetype": "text/x-python",
   "name": "python",
   "nbconvert_exporter": "python",
   "pygments_lexer": "ipython3",
   "version": "3.6.5"
  }
 },
 "nbformat": 4,
 "nbformat_minor": 2
}
