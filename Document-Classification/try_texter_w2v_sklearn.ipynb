{
 "cells": [
  {
   "cell_type": "code",
   "execution_count": 2,
   "metadata": {},
   "outputs": [],
   "source": [
    "import pandas as pd\n",
    "import numpy as np \n",
    "import re\n",
    "import os\n",
    "from nltk.corpus import stopwords\n",
    "from texter.models.sklearn import learners\n",
    "from texter.utils import text_utils as tu"
   ]
  },
  {
   "cell_type": "code",
   "execution_count": 3,
   "metadata": {},
   "outputs": [
    {
     "name": "stdout",
     "output_type": "stream",
     "text": [
      "classification model configured to use MLPClassifier algorithm.\n"
     ]
    }
   ],
   "source": [
    "mlp_config = dict(activation=\"tanh\")\n",
    "mlp = learners.classifier(\"MLP\", mlp_config).model()"
   ]
  },
  {
   "cell_type": "code",
   "execution_count": 4,
   "metadata": {},
   "outputs": [],
   "source": [
    "excludes = stopwords.words(\"english\")\n",
    "text_path = \"../../../citi/citi_rest/data/raw_data/\"\n",
    "w2v_mod_path = \"../../data/others/GoogleNews-vectors-negative300-SLIM.bin\"\n",
    "text_labels = os.listdir(text_path)"
   ]
  },
  {
   "cell_type": "code",
   "execution_count": 5,
   "metadata": {},
   "outputs": [
    {
     "data": {
      "text/html": [
       "<div>\n",
       "<style scoped>\n",
       "    .dataframe tbody tr th:only-of-type {\n",
       "        vertical-align: middle;\n",
       "    }\n",
       "\n",
       "    .dataframe tbody tr th {\n",
       "        vertical-align: top;\n",
       "    }\n",
       "\n",
       "    .dataframe thead th {\n",
       "        text-align: right;\n",
       "    }\n",
       "</style>\n",
       "<table border=\"1\" class=\"dataframe\">\n",
       "  <thead>\n",
       "    <tr style=\"text-align: right;\">\n",
       "      <th></th>\n",
       "      <th>label</th>\n",
       "      <th>text</th>\n",
       "    </tr>\n",
       "  </thead>\n",
       "  <tbody>\n",
       "    <tr>\n",
       "      <th>0</th>\n",
       "      <td>class_1</td>\n",
       "      <td>dogs fox zebra monkey friends alonzo distrit c...</td>\n",
       "    </tr>\n",
       "    <tr>\n",
       "      <th>1</th>\n",
       "      <td>class_1</td>\n",
       "      <td>friends alonzo distrit category money bro one ...</td>\n",
       "    </tr>\n",
       "    <tr>\n",
       "      <th>2</th>\n",
       "      <td>class_1</td>\n",
       "      <td>going big file nonsense one class think</td>\n",
       "    </tr>\n",
       "    <tr>\n",
       "      <th>3</th>\n",
       "      <td>class_2</td>\n",
       "      <td>apple also fruit keeps doctor away like eat ap...</td>\n",
       "    </tr>\n",
       "    <tr>\n",
       "      <th>4</th>\n",
       "      <td>class_2</td>\n",
       "      <td>man mango fruit like eat mangos summer time</td>\n",
       "    </tr>\n",
       "    <tr>\n",
       "      <th>5</th>\n",
       "      <td>class_2</td>\n",
       "      <td>apple also fruit keeps doctor away like eat ap...</td>\n",
       "    </tr>\n",
       "    <tr>\n",
       "      <th>6</th>\n",
       "      <td>class_2</td>\n",
       "      <td>apple also fruit keeps doctor away like eat ap...</td>\n",
       "    </tr>\n",
       "    <tr>\n",
       "      <th>7</th>\n",
       "      <td>class_3</td>\n",
       "      <td>type cat lions cats lepords non vegetarian lov...</td>\n",
       "    </tr>\n",
       "    <tr>\n",
       "      <th>8</th>\n",
       "      <td>class_3</td>\n",
       "      <td>class animals type cat lions cats lepords</td>\n",
       "    </tr>\n",
       "    <tr>\n",
       "      <th>9</th>\n",
       "      <td>class_3</td>\n",
       "      <td>type cat lions cats lepords non vegetarian lov...</td>\n",
       "    </tr>\n",
       "    <tr>\n",
       "      <th>10</th>\n",
       "      <td>class_3</td>\n",
       "      <td>class animals type cat lions cats lepords manfo</td>\n",
       "    </tr>\n",
       "  </tbody>\n",
       "</table>\n",
       "</div>"
      ],
      "text/plain": [
       "      label                                               text\n",
       "0   class_1  dogs fox zebra monkey friends alonzo distrit c...\n",
       "1   class_1  friends alonzo distrit category money bro one ...\n",
       "2   class_1            going big file nonsense one class think\n",
       "3   class_2  apple also fruit keeps doctor away like eat ap...\n",
       "4   class_2        man mango fruit like eat mangos summer time\n",
       "5   class_2  apple also fruit keeps doctor away like eat ap...\n",
       "6   class_2  apple also fruit keeps doctor away like eat ap...\n",
       "7   class_3  type cat lions cats lepords non vegetarian lov...\n",
       "8   class_3          class animals type cat lions cats lepords\n",
       "9   class_3  type cat lions cats lepords non vegetarian lov...\n",
       "10  class_3    class animals type cat lions cats lepords manfo"
      ]
     },
     "execution_count": 5,
     "metadata": {},
     "output_type": "execute_result"
    }
   ],
   "source": [
    "data = tu.load_data(excludes, text_path, text_labels)\n",
    "data\n",
    "data.label = data.label.replace(to_replace=0, value=\"class_1\")\n",
    "data.label = data.label.replace(to_replace=1, value=\"class_2\")\n",
    "data.label = data.label.replace(to_replace=2, value=\"class_3\")\n",
    "data"
   ]
  },
  {
   "cell_type": "code",
   "execution_count": 6,
   "metadata": {},
   "outputs": [
    {
     "name": "stdout",
     "output_type": "stream",
     "text": [
      "Loading Slim-Google-vectors-negative300.bin pretrained embeddings\n",
      "Considering only ['ADJ', 'NOUN']\n",
      "Averaging the Word Embeddings...\n",
      "Loading Slim-Google-vectors-negative300.bin pretrained embeddings\n",
      "Considering only ['ADJ', 'NOUN']\n",
      "Averaging the Word Embeddings...\n"
     ]
    }
   ],
   "source": [
    "x_data, y_data = tu.document_pos_tagger(data)\n",
    "\n",
    "#\n",
    "from sklearn.model_selection import train_test_split\n",
    "x_tr, x_te, y_tr, y_te = train_test_split(x_data, y_data)\n",
    "#\n",
    "\n",
    "x_embeddings = tu.word2vec(x_tr,w2v_mod_path)\n",
    "y_tr = np.array(y_tr)\n",
    "\n",
    "x_embe = tu.word2vec(x_te,w2v_mod_path)\n",
    "y_te = np.array(y_te)"
   ]
  },
  {
   "cell_type": "code",
   "execution_count": 7,
   "metadata": {},
   "outputs": [
    {
     "data": {
      "text/plain": [
       "MLPClassifier(activation='tanh', alpha=0.0001, batch_size='auto', beta_1=0.9,\n",
       "       beta_2=0.999, early_stopping=False, epsilon=1e-08,\n",
       "       hidden_layer_sizes=(100,), learning_rate='constant',\n",
       "       learning_rate_init=0.001, max_iter=200, momentum=0.9,\n",
       "       nesterovs_momentum=True, power_t=0.5, random_state=None,\n",
       "       shuffle=True, solver='adam', tol=0.0001, validation_fraction=0.1,\n",
       "       verbose=False, warm_start=False)"
      ]
     },
     "execution_count": 7,
     "metadata": {},
     "output_type": "execute_result"
    }
   ],
   "source": [
    "mlp.fit(x_embeddings, y_tr)"
   ]
  },
  {
   "cell_type": "code",
   "execution_count": 8,
   "metadata": {},
   "outputs": [
    {
     "data": {
      "text/plain": [
       "array(['class_2', 'class_3', 'class_2'], dtype='<U7')"
      ]
     },
     "execution_count": 8,
     "metadata": {},
     "output_type": "execute_result"
    }
   ],
   "source": [
    "mlp.predict(x_embe)"
   ]
  },
  {
   "cell_type": "code",
   "execution_count": 9,
   "metadata": {},
   "outputs": [],
   "source": [
    "s = \"dogs zebra and monkey are here\"\n",
    "r = \"use the universal features. and apple and microsoft and google\"\n",
    "l = \"tempo\"\n",
    "t = \"tempo\"\n",
    "sl = pd.DataFrame(dict(text=[s, r], label=[l, t]))"
   ]
  },
  {
   "cell_type": "code",
   "execution_count": 10,
   "metadata": {},
   "outputs": [
    {
     "name": "stdout",
     "output_type": "stream",
     "text": [
      "Loading Slim-Google-vectors-negative300.bin pretrained embeddings\n",
      "Considering only ['ADJ', 'NOUN']\n",
      "Averaging the Word Embeddings...\n"
     ]
    }
   ],
   "source": [
    "new = tu.word2vec(tu.document_pos_tagger(sl)[0], w2v_mod_path)"
   ]
  },
  {
   "cell_type": "code",
   "execution_count": 11,
   "metadata": {},
   "outputs": [
    {
     "data": {
      "text/plain": [
       "array(['class_1', 'class_2'], dtype='<U7')"
      ]
     },
     "execution_count": 11,
     "metadata": {},
     "output_type": "execute_result"
    }
   ],
   "source": [
    "mlp.predict(new)"
   ]
  },
  {
   "cell_type": "code",
   "execution_count": 12,
   "metadata": {},
   "outputs": [
    {
     "data": {
      "text/html": [
       "<div>\n",
       "<style scoped>\n",
       "    .dataframe tbody tr th:only-of-type {\n",
       "        vertical-align: middle;\n",
       "    }\n",
       "\n",
       "    .dataframe tbody tr th {\n",
       "        vertical-align: top;\n",
       "    }\n",
       "\n",
       "    .dataframe thead th {\n",
       "        text-align: right;\n",
       "    }\n",
       "</style>\n",
       "<table border=\"1\" class=\"dataframe\">\n",
       "  <thead>\n",
       "    <tr style=\"text-align: right;\">\n",
       "      <th></th>\n",
       "      <th>label</th>\n",
       "      <th>text</th>\n",
       "    </tr>\n",
       "  </thead>\n",
       "  <tbody>\n",
       "    <tr>\n",
       "      <th>0</th>\n",
       "      <td>class_1</td>\n",
       "      <td>dogs fox zebra monkey friends alonzo distrit c...</td>\n",
       "    </tr>\n",
       "    <tr>\n",
       "      <th>1</th>\n",
       "      <td>class_1</td>\n",
       "      <td>friends alonzo distrit category money bro one ...</td>\n",
       "    </tr>\n",
       "    <tr>\n",
       "      <th>2</th>\n",
       "      <td>class_1</td>\n",
       "      <td>going big file nonsense one class think</td>\n",
       "    </tr>\n",
       "    <tr>\n",
       "      <th>3</th>\n",
       "      <td>class_2</td>\n",
       "      <td>apple also fruit keeps doctor away like eat ap...</td>\n",
       "    </tr>\n",
       "    <tr>\n",
       "      <th>4</th>\n",
       "      <td>class_2</td>\n",
       "      <td>man mango fruit like eat mangos summer time</td>\n",
       "    </tr>\n",
       "    <tr>\n",
       "      <th>5</th>\n",
       "      <td>class_2</td>\n",
       "      <td>apple also fruit keeps doctor away like eat ap...</td>\n",
       "    </tr>\n",
       "    <tr>\n",
       "      <th>6</th>\n",
       "      <td>class_2</td>\n",
       "      <td>apple also fruit keeps doctor away like eat ap...</td>\n",
       "    </tr>\n",
       "    <tr>\n",
       "      <th>7</th>\n",
       "      <td>class_3</td>\n",
       "      <td>type cat lions cats lepords non vegetarian lov...</td>\n",
       "    </tr>\n",
       "    <tr>\n",
       "      <th>8</th>\n",
       "      <td>class_3</td>\n",
       "      <td>class animals type cat lions cats lepords</td>\n",
       "    </tr>\n",
       "    <tr>\n",
       "      <th>9</th>\n",
       "      <td>class_3</td>\n",
       "      <td>type cat lions cats lepords non vegetarian lov...</td>\n",
       "    </tr>\n",
       "    <tr>\n",
       "      <th>10</th>\n",
       "      <td>class_3</td>\n",
       "      <td>class animals type cat lions cats lepords manfo</td>\n",
       "    </tr>\n",
       "  </tbody>\n",
       "</table>\n",
       "</div>"
      ],
      "text/plain": [
       "      label                                               text\n",
       "0   class_1  dogs fox zebra monkey friends alonzo distrit c...\n",
       "1   class_1  friends alonzo distrit category money bro one ...\n",
       "2   class_1            going big file nonsense one class think\n",
       "3   class_2  apple also fruit keeps doctor away like eat ap...\n",
       "4   class_2        man mango fruit like eat mangos summer time\n",
       "5   class_2  apple also fruit keeps doctor away like eat ap...\n",
       "6   class_2  apple also fruit keeps doctor away like eat ap...\n",
       "7   class_3  type cat lions cats lepords non vegetarian lov...\n",
       "8   class_3          class animals type cat lions cats lepords\n",
       "9   class_3  type cat lions cats lepords non vegetarian lov...\n",
       "10  class_3    class animals type cat lions cats lepords manfo"
      ]
     },
     "execution_count": 12,
     "metadata": {},
     "output_type": "execute_result"
    }
   ],
   "source": [
    "data"
   ]
  },
  {
   "cell_type": "code",
   "execution_count": null,
   "metadata": {},
   "outputs": [],
   "source": []
  },
  {
   "cell_type": "code",
   "execution_count": null,
   "metadata": {},
   "outputs": [],
   "source": []
  }
 ],
 "metadata": {
  "kernelspec": {
   "display_name": "Python 3",
   "language": "python",
   "name": "python3"
  },
  "language_info": {
   "codemirror_mode": {
    "name": "ipython",
    "version": 3
   },
   "file_extension": ".py",
   "mimetype": "text/x-python",
   "name": "python",
   "nbconvert_exporter": "python",
   "pygments_lexer": "ipython3",
   "version": "3.6.5"
  }
 },
 "nbformat": 4,
 "nbformat_minor": 2
}
