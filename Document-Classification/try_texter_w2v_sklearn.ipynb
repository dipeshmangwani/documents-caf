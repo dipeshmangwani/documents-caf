{
 "cells": [
  {
   "cell_type": "code",
   "execution_count": 2,
   "metadata": {},
   "outputs": [],
   "source": [
    "import pandas as pd\n",
    "import numpy as np\n",
    "import os\n",
    "\n",
    "from texter.utils.config_utils import sklearn_model_config as smc\n",
    "from texter.utils.config_utils import sklearn_data_config as sdc\n",
    "from texter.utils import text_utils as tu"
   ]
  },
  {
   "cell_type": "code",
   "execution_count": 3,
   "metadata": {},
   "outputs": [],
   "source": [
    "text_path = \"../../../citi/citi_rest/data/raw_data/\"\n",
    "embpath = \"../../data/others/GoogleNews-vectors-negative300-SLIM.bin\"\n",
    "text_labels = os.listdir(text_path)"
   ]
  },
  {
   "cell_type": "code",
   "execution_count": 4,
   "metadata": {},
   "outputs": [
    {
     "name": "stdout",
     "output_type": "stream",
     "text": [
      "Loading Slim-Google-vectors-negative300.bin pretrained embeddings\n",
      "Considering only ['ADJ', 'NOUN']\n",
      "Averaging the Word Embeddings...\n",
      "Loading Slim-Google-vectors-negative300.bin pretrained embeddings\n",
      "Considering only ['ADJ', 'NOUN']\n",
      "Averaging the Word Embeddings...\n"
     ]
    }
   ],
   "source": [
    "train_data, test_data, train_labels, test_labels, fitted_model = sdc(text_path, text_labels, \n",
    "                                                                     embpath, processing_type=\"word2vec\")"
   ]
  },
  {
   "cell_type": "code",
   "execution_count": 5,
   "metadata": {},
   "outputs": [
    {
     "data": {
      "text/plain": [
       "((8, 300), (8,), (3, 300), (3,))"
      ]
     },
     "execution_count": 5,
     "metadata": {},
     "output_type": "execute_result"
    }
   ],
   "source": [
    "train_data.shape, train_labels.shape, test_data.shape, test_labels.shape"
   ]
  },
  {
   "cell_type": "code",
   "execution_count": 6,
   "metadata": {},
   "outputs": [
    {
     "name": "stdout",
     "output_type": "stream",
     "text": [
      "classification model configured to use RandomForestClassifier algorithm.\n"
     ]
    },
    {
     "data": {
      "text/plain": [
       "array([2, 2, 1])"
      ]
     },
     "execution_count": 6,
     "metadata": {},
     "output_type": "execute_result"
    }
   ],
   "source": [
    "rf = smc(\"RF\")\n",
    "rf.fit(train_data, train_labels)\n",
    "rf.predict(test_data)"
   ]
  },
  {
   "cell_type": "code",
   "execution_count": 8,
   "metadata": {},
   "outputs": [
    {
     "name": "stdout",
     "output_type": "stream",
     "text": [
      "Loading Slim-Google-vectors-negative300.bin pretrained embeddings\n",
      "Considering only ['ADJ', 'NOUN']\n",
      "Averaging the Word Embeddings...\n"
     ]
    },
    {
     "data": {
      "text/plain": [
       "array([0])"
      ]
     },
     "execution_count": 8,
     "metadata": {},
     "output_type": "execute_result"
    }
   ],
   "source": [
    "new = \"universal picture in motion and it is here fore the longest day of the year. 1234\"\n",
    "rf.predict(tu.sklearn_text_vectorizer(new, w2v_path=embpath, model=\"word2vec\"))"
   ]
  },
  {
   "cell_type": "code",
   "execution_count": null,
   "metadata": {},
   "outputs": [],
   "source": []
  }
 ],
 "metadata": {
  "kernelspec": {
   "display_name": "Python 3",
   "language": "python",
   "name": "python3"
  },
  "language_info": {
   "codemirror_mode": {
    "name": "ipython",
    "version": 3
   },
   "file_extension": ".py",
   "mimetype": "text/x-python",
   "name": "python",
   "nbconvert_exporter": "python",
   "pygments_lexer": "ipython3",
   "version": "3.6.5"
  }
 },
 "nbformat": 4,
 "nbformat_minor": 2
}
