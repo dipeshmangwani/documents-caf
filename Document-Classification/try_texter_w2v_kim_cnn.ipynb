{
 "cells": [
  {
   "cell_type": "code",
   "execution_count": 2,
   "metadata": {},
   "outputs": [],
   "source": [
    "import os\n",
    "import numpy as np\n",
    "\n",
    "from texter.utils import eval_utils as evu\n",
    "from texter.utils import config_utils as cu\n",
    "from texter.utils import text_utils as tu\n",
    "\n",
    "np.random.seed(15101993)"
   ]
  },
  {
   "cell_type": "code",
   "execution_count": 5,
   "metadata": {},
   "outputs": [
    {
     "name": "stdout",
     "output_type": "stream",
     "text": [
      "Found 57 unique tokens.\n",
      "Shape of X train and X validation tensor: (8, 2000) (3, 2000)\n",
      "Shape of label train and validation tensor: (8, 3) (3, 3)\n"
     ]
    }
   ],
   "source": [
    "text_path = \"../../../citi/citi_rest/data/raw_data/\"\n",
    "text_labels = os.listdir(text_path)\n",
    "pretrained_path = \"../../data/others/GoogleNews-vectors-negative300-SLIM.bin\"\n",
    "pre_path = \"../../data/others/glove.6B.50d.txt\"\n",
    "\n",
    "X_train, X_val, Y_train, Y_val, tokenizer, word_index = cu.keras_data_config(text_path, text_labels, \n",
    "                                                                    3, NUM_WORDS=1000)"
   ]
  },
  {
   "cell_type": "code",
   "execution_count": 6,
   "metadata": {},
   "outputs": [
    {
     "name": "stdout",
     "output_type": "stream",
     "text": [
      "__________________________________________________________________________________________________\n",
      "Layer (type)                    Output Shape         Param #     Connected to                     \n",
      "==================================================================================================\n",
      "input_1 (InputLayer)            (None, 2000)         0                                            \n",
      "__________________________________________________________________________________________________\n",
      "embedding_2 (Embedding)         (None, 2000, 300)    17400       input_1[0][0]                    \n",
      "__________________________________________________________________________________________________\n",
      "reshape_1 (Reshape)             (None, 2000, 300, 1) 0           embedding_2[0][0]                \n",
      "__________________________________________________________________________________________________\n",
      "conv2d_1 (Conv2D)               (None, 1998, 1, 100) 90100       reshape_1[0][0]                  \n",
      "__________________________________________________________________________________________________\n",
      "conv2d_2 (Conv2D)               (None, 1997, 1, 100) 120100      reshape_1[0][0]                  \n",
      "__________________________________________________________________________________________________\n",
      "conv2d_3 (Conv2D)               (None, 1996, 1, 100) 150100      reshape_1[0][0]                  \n",
      "__________________________________________________________________________________________________\n",
      "max_pooling2d_1 (MaxPooling2D)  (None, 1, 1, 100)    0           conv2d_1[0][0]                   \n",
      "__________________________________________________________________________________________________\n",
      "max_pooling2d_2 (MaxPooling2D)  (None, 1, 1, 100)    0           conv2d_2[0][0]                   \n",
      "__________________________________________________________________________________________________\n",
      "max_pooling2d_3 (MaxPooling2D)  (None, 1, 1, 100)    0           conv2d_3[0][0]                   \n",
      "__________________________________________________________________________________________________\n",
      "concatenate_1 (Concatenate)     (None, 3, 1, 100)    0           max_pooling2d_1[0][0]            \n",
      "                                                                 max_pooling2d_2[0][0]            \n",
      "                                                                 max_pooling2d_3[0][0]            \n",
      "__________________________________________________________________________________________________\n",
      "flatten_1 (Flatten)             (None, 300)          0           concatenate_1[0][0]              \n",
      "__________________________________________________________________________________________________\n",
      "dropout_1 (Dropout)             (None, 300)          0           flatten_1[0][0]                  \n",
      "__________________________________________________________________________________________________\n",
      "dense_1 (Dense)                 (None, 3)            903         dropout_1[0][0]                  \n",
      "==================================================================================================\n",
      "Total params: 378,603\n",
      "Trainable params: 378,603\n",
      "Non-trainable params: 0\n",
      "__________________________________________________________________________________________________\n"
     ]
    }
   ],
   "source": [
    "model = cu.keras_model_config(pretrained_path, word_index, 3, model_type=\"kim\", \n",
    "                        embedding_type=\"word2vec\", MAX_SEQUENCE_LENGTH=2000)\n",
    "\n",
    "model.summary()"
   ]
  },
  {
   "cell_type": "code",
   "execution_count": 5,
   "metadata": {},
   "outputs": [
    {
     "name": "stdout",
     "output_type": "stream",
     "text": [
      "Train on 8 samples, validate on 3 samples\n",
      "Epoch 1/10\n",
      "8/8 [==============================] - 3s 423ms/step - loss: 1.2123 - acc: 0.1250 - val_loss: 1.1716 - val_acc: 0.6667\n",
      "Epoch 2/10\n",
      "8/8 [==============================] - 0s 42ms/step - loss: 1.1440 - acc: 0.8750 - val_loss: 1.1189 - val_acc: 0.6667\n",
      "Epoch 3/10\n",
      "8/8 [==============================] - 0s 41ms/step - loss: 1.0705 - acc: 1.0000 - val_loss: 1.0671 - val_acc: 0.6667\n",
      "Epoch 4/10\n",
      "8/8 [==============================] - 0s 41ms/step - loss: 0.9908 - acc: 1.0000 - val_loss: 1.0135 - val_acc: 0.6667\n",
      "Epoch 5/10\n",
      "8/8 [==============================] - 0s 43ms/step - loss: 0.9206 - acc: 1.0000 - val_loss: 0.9593 - val_acc: 0.6667\n",
      "Epoch 6/10\n",
      "8/8 [==============================] - 0s 53ms/step - loss: 0.8675 - acc: 1.0000 - val_loss: 0.9071 - val_acc: 1.0000\n",
      "Epoch 7/10\n",
      "8/8 [==============================] - 0s 53ms/step - loss: 0.7690 - acc: 1.0000 - val_loss: 0.8560 - val_acc: 1.0000\n",
      "Epoch 8/10\n",
      "8/8 [==============================] - 0s 41ms/step - loss: 0.6956 - acc: 1.0000 - val_loss: 0.8069 - val_acc: 1.0000\n",
      "Epoch 9/10\n",
      "8/8 [==============================] - 0s 42ms/step - loss: 0.6304 - acc: 1.0000 - val_loss: 0.7621 - val_acc: 1.0000\n",
      "Epoch 10/10\n",
      "8/8 [==============================] - 0s 54ms/step - loss: 0.5726 - acc: 1.0000 - val_loss: 0.7229 - val_acc: 1.0000\n"
     ]
    },
    {
     "data": {
      "text/plain": [
       "<keras.callbacks.History at 0x7f1f20a0da20>"
      ]
     },
     "execution_count": 5,
     "metadata": {},
     "output_type": "execute_result"
    }
   ],
   "source": [
    "model.fit(X_train, Y_train, batch_size=245, epochs=10, verbose=1, validation_data=(X_val, Y_val),\n",
    "         callbacks=evu.add_callbacks())"
   ]
  },
  {
   "cell_type": "code",
   "execution_count": 7,
   "metadata": {},
   "outputs": [],
   "source": [
    "#sample predictions\n",
    "\n",
    "s = \"\"\"Ayahuasca emerged again in the early 1960s with the counterculture movement.\\n \n",
    "Beat writers like William Burroughs, Allen Ginsberg, and Jack Kerouac all described \\n\n",
    "their experiences with ayahuasca, most famously in Burroughs's book The Yage Letters. \"\"\""
   ]
  },
  {
   "cell_type": "code",
   "execution_count": 13,
   "metadata": {},
   "outputs": [
    {
     "data": {
      "text/plain": [
       "array([[0.34893385, 0.32281166, 0.32825452]], dtype=float32)"
      ]
     },
     "execution_count": 13,
     "metadata": {},
     "output_type": "execute_result"
    }
   ],
   "source": [
    "model.predict(tu.keras_text_vectorizer(s, tokenizer))"
   ]
  },
  {
   "cell_type": "code",
   "execution_count": null,
   "metadata": {},
   "outputs": [],
   "source": []
  }
 ],
 "metadata": {
  "kernelspec": {
   "display_name": "Python 3",
   "language": "python",
   "name": "python3"
  },
  "language_info": {
   "codemirror_mode": {
    "name": "ipython",
    "version": 3
   },
   "file_extension": ".py",
   "mimetype": "text/x-python",
   "name": "python",
   "nbconvert_exporter": "python",
   "pygments_lexer": "ipython3",
   "version": "3.6.5"
  }
 },
 "nbformat": 4,
 "nbformat_minor": 2
}
